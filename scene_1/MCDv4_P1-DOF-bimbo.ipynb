{
 "cells": [
  {
   "attachments": {},
   "cell_type": "markdown",
   "metadata": {},
   "source": [
    "UNIVERSIDAD CATÓLICA BOLIVIANA ”SAN PABLO”\n",
    "MAESTRÍA EN CIENCIA DE DATOS V4\n",
    "MATERIA MINERÍA DE DATOS 1\n",
    "DATASET DE PRACTICA\n",
    "\n",
    "BIMBO\n",
    "\n",
    "1.\tQuitar filas duplicadas\n",
    "2.\tQuitar columnas duplicadas\n",
    "3.\tIdentificar columnas que tienen valores constantes\n",
    "4.\tIdentifique el porcentaje de valores faltantes en las columnas\n",
    "5.\tAnalice el caso de los atributos siguientes por medio de la obtención de gráficas: Agencia_ID, Town, Product_ID, Cliente_ID, NombreCliente, Semana, Canal_ID, Ruta_SAK, Venta_uni_hoy, Venta_hoy. Cuales decidiría usted de transformar o en su caso quitar, con el propósito de mejorar el dataset. \n",
    "6.\tObtenga la matriz de correlación de las variables numéricas e identifique si algunas se pudieran quitar\n",
    "7.\tDiscretice Ruta_SAK, Venta_hoy, Dev_uni_próxima y Dev_próxima.\n",
    "8.\tObtenga la tabla de relación de frecuencias entre los atributos NombreProducto y State.\n",
    "9.\tAísle los atributos numéricos e identifique outliers. Quite los outliers que tengan rangos muy lejanos.\n",
    "10.\tGenere variables dummy utilizando Hot-encoding. Decida en que atributos aplicar este procedimiento, justificándolo.\n",
    "11.\tEn Ruta_SAK el valor 9999 es null, cambie este valor por el que considere se adecua más a este campo (i.e. media, mediana, algún otro)\n",
    "12.\tEl atributo State tiene valores faltantes, cambiar estas marcas con el State que sea más común.\n",
    "13.\tIdentifique atributos que no serían de utilidad por su nivel de variación. \n",
    "14.\tNormalice y estandarice los atributos numéricos.\n",
    "15.\tRealice el cálculo con los campos Venta_uni_hoy multiplicado por Venta_hoy, para lo cual cree un campo con el resultado.\n",
    "16.\tObtenga por campo State y Product_ID, el total en monto agrupado del resultado del campo de la respuesta a la pregunta 15.\n",
    "17.\tObtenga los nombres de clientes y los nombres de productos de State “BAJA CALIFORNIA NORTE” y Canal_ID “4”."
   ]
  },
  {
   "cell_type": "code",
   "execution_count": null,
   "metadata": {},
   "outputs": [],
   "source": []
  }
 ],
 "metadata": {
  "language_info": {
   "name": "python"
  },
  "orig_nbformat": 4
 },
 "nbformat": 4,
 "nbformat_minor": 2
}
