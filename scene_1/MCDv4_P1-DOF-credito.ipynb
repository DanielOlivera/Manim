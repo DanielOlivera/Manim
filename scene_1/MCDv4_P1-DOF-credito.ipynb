{
 "cells": [
  {
   "attachments": {},
   "cell_type": "markdown",
   "metadata": {},
   "source": [
    "UNIVERSIDAD CATÓLICA BOLIVIANA”SAN PABLO”\n",
    "MAESTRÍA EN CIENCICIA DE DATOS Versión 4\n",
    "MATERIA MINERIA DE DATOS 1\n",
    "DATASET DE PRÁCTICA\n",
    "DATASET CREDITO\n",
    "1.\tQuitar filas duplicadas\n",
    "2.\tQuitar columnas duplicadas\n",
    "3.\tIdentificar columnas que tienen valores constantes\n",
    "4.\tIdentifique el porcentaje de valores faltantes en las columnas\n",
    "5.\tPara el dataset hacer un análisis gráfico documentado de las variables:\n",
    "•\tHistograms\n",
    "•\tQuartiles\n",
    "•\tScatter plots\n",
    "•\tDistributions\n",
    "•\tBoxplots\n",
    "•\tBar plot\n",
    "•\tHeatmaps\n",
    "6.\tAplicar expresión matemática para el cálculo (CreditAmount / Duración)*residence_since\n",
    "7.\tDiscretizar duración, credit_amount, age, number_of_dependents.\n",
    "8.\tObtenga la matriz de correlación de las variables numéricas.\n",
    "9.\tObtenga la tabla de relación de frecuencias entre los atributos job y purpose.\n",
    "10.\tMapear a valores diferentes para atributos own_telephone, foreign_worker.\n",
    "11.\tNormalizar el campo instalment_commitment\n",
    "12.\tEstandarizar el campo instalment_commitment \n",
    "13.\tDe los gráficos Boxplot obtenidos quitar outliers por medio de Inter-quartil range\n",
    "14.\tUtilice One-hot encoding en campo purpose.\n",
    "15.\tObtenga las instancias que cumplan la condición de un monto de crédito mayor a 3000\n",
    "16.\tObtenga las instancias que cumplen con la condición de que job sea igual a “skilled” y que el monto de crédito sea mayor a 2000.\n",
    "17.\tObtenga suma total del camp credit_amount agrupado por el campo purpose “new car”.\n",
    "18.\tObtenga age y class para los registros que tienen campo purpose “education” y housing “for_free”.\n",
    "19.\tObtenga el total y el promedio de credit amount agrupado por housing y class."
   ]
  },
  {
   "cell_type": "code",
   "execution_count": null,
   "metadata": {},
   "outputs": [],
   "source": []
  }
 ],
 "metadata": {
  "language_info": {
   "name": "python"
  },
  "orig_nbformat": 4
 },
 "nbformat": 4,
 "nbformat_minor": 2
}
