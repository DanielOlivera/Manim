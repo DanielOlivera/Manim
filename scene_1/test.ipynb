{
 "cells": [
  {
   "cell_type": "code",
   "execution_count": 3,
   "metadata": {},
   "outputs": [
    {
     "name": "stdout",
     "output_type": "stream",
     "text": [
      "    fruit  apple  banana  orange  NaN\n",
      "0   apple      1       0       0    0\n",
      "1  banana      0       1       0    0\n",
      "2  orange      0       0       1    0\n",
      "3   apple      1       0       0    0\n",
      "4  banana      0       1       0    0\n",
      "5  orange      0       0       1    0\n",
      "6    None      0       0       0    1\n"
     ]
    }
   ],
   "source": [
    "import pandas as pd\n",
    "\n",
    "# Creamos un DataFrame de ejemplo\n",
    "data = {'fruit': ['apple', 'banana', 'orange', 'apple', 'banana', 'orange', None]}\n",
    "df = pd.DataFrame(data)\n",
    "\n",
    "# Codificamos la columna \"fruit\" con one-hot encoding en binario\n",
    "one_hot = pd.get_dummies(df['fruit'], dummy_na=True, dtype=int)\n",
    "\n",
    "# Reemplazamos los valores nulos con ceros\n",
    "one_hot = one_hot.fillna(0)\n",
    "\n",
    "# Concatenamos las columnas codificadas al DataFrame original\n",
    "df = pd.concat([df, one_hot], axis=1)\n",
    "\n",
    "# Imprimimos el DataFrame resultante\n",
    "print(df)"
   ]
  }
 ],
 "metadata": {
  "kernelspec": {
   "display_name": "venv",
   "language": "python",
   "name": "python3"
  },
  "language_info": {
   "codemirror_mode": {
    "name": "ipython",
    "version": 3
   },
   "file_extension": ".py",
   "mimetype": "text/x-python",
   "name": "python",
   "nbconvert_exporter": "python",
   "pygments_lexer": "ipython3",
   "version": "3.9.16"
  },
  "orig_nbformat": 4
 },
 "nbformat": 4,
 "nbformat_minor": 2
}
