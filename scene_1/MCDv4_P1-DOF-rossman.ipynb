{
 "cells": [
  {
   "attachments": {},
   "cell_type": "markdown",
   "metadata": {},
   "source": [
    "UNIVERSIDAD CATÓLICA BOLIVIANA”SAN PABLO”\n",
    "MAESTRÍA EN CIENCIA DE DATOS V4\n",
    "MINERÍA DE DATOS 1 \n",
    "DATASET DE PRACTICA \n",
    "ROSSMAN\n",
    "\n",
    "1.\tQuitar filas duplicadas\n",
    "2.\tQuitar columnas duplicadas\n",
    "3.\tIdentificar columnas que tienen valores constantes\n",
    "4.\tIdentifique el porcentaje de valores faltantes en las columnas\n",
    "5.\tAnalice el caso de los atributos que no serían apropiaos para en dataset, por medio de gráficas Cuales decidiría usted de transformar o en su caso quitar, con el propósito de mejorar el dataset. Genere las siguientes gráficas:\n",
    "a.\tHistograms\n",
    "b.\tQuartiles\n",
    "c.\tScatter plots\n",
    "d.\tDistributions\n",
    "e.\tHeartmaps\n",
    "6.\tObtenga la matriz de correlación de las variables numéricas e identifique si algunas se pudieran quitar.\n",
    "7.\tMapear Day of Week con los días en literal.\n",
    "8.\tObtenga la tabla de relación de frecuencias entre los atributos StoreType y Assortment\n",
    "9.\tMapear el atributo CompetitionOpenSinceMonth con los meses del año en literal y rellenar los valores faltantes “?” con el mes que tenga la mayor frecuencia.\n",
    "10.\tIdentifique atributos que no serían de utilidad por su nivel de variación, si hubiera. Usted identifique su nivel de utilidad, dando razones para ello.\n",
    "11.\tIdentifique los campos que tienen valores faltantes y decida como reemplazarlos, haciendo un análisis en cada caso.\n",
    "12.\tObtenga por día de semana (DayOfWeek) el total en ventas (Sales) y ordénelo por ventas en forma descendente.\n",
    "13.\tObtenga por día de semana (DayOfWeek) y tienda el total y el promedio en ventas (Sales) y ordénelo por ventas en forma ascendente."
   ]
  },
  {
   "cell_type": "code",
   "execution_count": null,
   "metadata": {},
   "outputs": [],
   "source": []
  }
 ],
 "metadata": {
  "language_info": {
   "name": "python"
  },
  "orig_nbformat": 4
 },
 "nbformat": 4,
 "nbformat_minor": 2
}
